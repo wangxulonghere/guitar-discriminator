from PIL import Image
dest = r'aaa.png'
im = Image.open(dest)
print('haha')
im#.to_thumb(128,128)
